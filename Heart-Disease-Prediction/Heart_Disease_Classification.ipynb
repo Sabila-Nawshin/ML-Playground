{
  "nbformat": 4,
  "nbformat_minor": 0,
  "metadata": {
    "kernelspec": {
      "display_name": "Python 3",
      "language": "python",
      "name": "python3"
    },
    "language_info": {
      "codemirror_mode": {
        "name": "ipython",
        "version": 3
      },
      "file_extension": ".py",
      "mimetype": "text/x-python",
      "name": "python",
      "nbconvert_exporter": "python",
      "pygments_lexer": "ipython3",
      "version": "3.8.2"
    },
    "colab": {
      "name": "Heart-Disease-Classification.ipynb",
      "provenance": [],
      "collapsed_sections": [
        "nqZRbBsQ9wT7",
        "feLFfepv9wT-",
        "JlzTqr_89wUD"
      ]
    }
  },
  "cells": [
    {
      "cell_type": "markdown",
      "metadata": {
        "id": "x51keVhC9wTW"
      },
      "source": [
        "# Predicting heart disease using machine learning"
      ]
    },
    {
      "cell_type": "markdown",
      "metadata": {
        "id": "cfRPurr89wTf"
      },
      "source": [
        "## 1. Problem Definition\n",
        "\n",
        "Given clinical parameters about a patient, predicting whether or not the patient has heart disease.\n",
        "\n",
        "## 2. Data\n",
        "\n",
        "The original data came from the Cleavland data from the UCI Machine Learning Reporsitory (Link: https://archive.ics.uci.edu/ml/datasets/Heart+Disease)\n",
        "\n",
        "We collected a subset of the dataset with 14 features from Kaggle (https://www.kaggle.com/ronitf/heart-disease-uci)\n",
        "\n",
        "## 3. Features\n",
        "The features of this dataset are explained below-\n",
        "\n",
        "**create data dictionary**\n",
        "* age - age in years\n",
        "* sex - (1 = male; 0 = female)\n",
        "* cp - chest pain type\n",
        "    - 0: Typical angina: chest pain related decrease blood supply to the heart\n",
        "    - 1: Atypical angina: chest pain not related to heart\n",
        "    - 2: Non-anginal pain: typically esophageal spasms (non heart related)\n",
        "    - 3: Aysmptomatic: chest pain not showing signs of disease\n",
        "* trestbps - resting blood pressure (in mm Hg on admission to the hospital): anything above 130-140 is typically cause for concern\n",
        "* chol - serum cholestoral in mg/dl\n",
        "    - serum = LDL + HDL + .2 * triglycerides\n",
        "    - above 200 is cause for concern\n",
        "* fbs - (fasting blood sugar > 120 mg/dl) (1 = true; 0 = false)\n",
        "    - '>126' mg/dL signals diabetes\n",
        "* restecg - resting electrocardiographic results\n",
        "    - 0: Nothing to note\n",
        "    - 1: ST-T Wave abnormality\n",
        "        - can range from mild symptoms to servere problems\n",
        "        - signals non-normal heart beat\n",
        "    - 2: Possible or definite left ventricular hypertrophy\n",
        "        - Enlarged heart's main pumping chamber\n",
        "* thalach - maximum heart rate achieved\n",
        "* exang - exercise induced angina (1 = yes; 0 = no)\n",
        "* oldpeak - ST depression induced by exercise relative to rest\n",
        "    - looks at stress of heart during excercise unhealthy heart will stress more\n",
        "* slope - the slope of the peak exercise ST segment\n",
        "    - 0: Upsloping: better heart rate with exercise (uncommon)\n",
        "    - 1: Flatsloping: minimal change (typical healthy heart)\n",
        "    - 2: Downslopins: signs of unhealthy heart\n",
        "* ca - number of major vessels (0-3) colored by flourosopy\n",
        "    - colored vessel means the doctor can see the blood passing through\n",
        "    - the more blood movement the better (no clots)\n",
        "* thal - thalium stress result\n",
        "    - 1,3: normal\n",
        "    - 6: fixed defect (used to be defect but ok now)\n",
        "    - 7: reversable defect (no proper blood movement when excercising)\n",
        "* target - have disease or not (1=yes, 0=no) (=the predicted attribute)"
      ]
    },
    {
      "cell_type": "markdown",
      "metadata": {
        "id": "7NzbZmRT9wTh"
      },
      "source": [
        "# Initializing\n",
        "The different python libraries used in the code are initialized below"
      ]
    },
    {
      "cell_type": "code",
      "metadata": {
        "id": "MWdU7U2e9wTh"
      },
      "source": [
        "# For Data Analysis and plotting\n",
        "import numpy as np\n",
        "import pandas as pd\n",
        "import matplotlib.pyplot as plt\n",
        "import seaborn as sns\n",
        "%matplotlib inline\n",
        "\n",
        "# Models from keras for Neural Netowrks\n",
        "from keras.models import Sequential\n",
        "from keras.layers import Dense\n",
        "\n",
        "# For Model Evaluation\n",
        "from sklearn.model_selection import train_test_split, cross_val_score\n",
        "from sklearn.model_selection import RandomizedSearchCV, GridSearchCV\n",
        "from sklearn.metrics import confusion_matrix, classification_report\n",
        "from sklearn.metrics import precision_score, recall_score, f1_score\n",
        "from sklearn.metrics import plot_roc_curve\n",
        "from sklearn.metrics import roc_curve\n",
        "from sklearn.metrics import auc"
      ],
      "execution_count": null,
      "outputs": []
    },
    {
      "cell_type": "markdown",
      "metadata": {
        "id": "qR5O3I279wTi"
      },
      "source": [
        "Loading data from url"
      ]
    },
    {
      "cell_type": "code",
      "metadata": {
        "id": "q4x_qU9s9wTj",
        "colab": {
          "base_uri": "https://localhost:8080/"
        },
        "outputId": "9dd7c633-fe9a-4051-80ed-16f0037d13bb"
      },
      "source": [
        "url = \"https://raw.githubusercontent.com/Sabila-Nawshin/ML-Playground/main/Heart-Disease-Prediction/heart.csv\"\n",
        "df = pd.read_csv(url, comment=\"#\")\n",
        "df.shape # Shows (rows, columns)"
      ],
      "execution_count": null,
      "outputs": [
        {
          "output_type": "execute_result",
          "data": {
            "text/plain": [
              "(303, 14)"
            ]
          },
          "metadata": {
            "tags": []
          },
          "execution_count": 2
        }
      ]
    },
    {
      "cell_type": "markdown",
      "metadata": {
        "id": "PZErQViV9wTk"
      },
      "source": [
        "## Data Exploration"
      ]
    },
    {
      "cell_type": "code",
      "metadata": {
        "id": "9KT_Egr_9wTk",
        "colab": {
          "base_uri": "https://localhost:8080/",
          "height": 195
        },
        "outputId": "a727deb3-3c8b-4bb1-ee14-4a9d35944be3"
      },
      "source": [
        "df.head() #Observing the first five rows of the data"
      ],
      "execution_count": null,
      "outputs": [
        {
          "output_type": "execute_result",
          "data": {
            "text/html": [
              "<div>\n",
              "<style scoped>\n",
              "    .dataframe tbody tr th:only-of-type {\n",
              "        vertical-align: middle;\n",
              "    }\n",
              "\n",
              "    .dataframe tbody tr th {\n",
              "        vertical-align: top;\n",
              "    }\n",
              "\n",
              "    .dataframe thead th {\n",
              "        text-align: right;\n",
              "    }\n",
              "</style>\n",
              "<table border=\"1\" class=\"dataframe\">\n",
              "  <thead>\n",
              "    <tr style=\"text-align: right;\">\n",
              "      <th></th>\n",
              "      <th>age</th>\n",
              "      <th>sex</th>\n",
              "      <th>cp</th>\n",
              "      <th>trestbps</th>\n",
              "      <th>chol</th>\n",
              "      <th>fbs</th>\n",
              "      <th>restecg</th>\n",
              "      <th>thalach</th>\n",
              "      <th>exang</th>\n",
              "      <th>oldpeak</th>\n",
              "      <th>slope</th>\n",
              "      <th>ca</th>\n",
              "      <th>thal</th>\n",
              "      <th>target</th>\n",
              "    </tr>\n",
              "  </thead>\n",
              "  <tbody>\n",
              "    <tr>\n",
              "      <th>0</th>\n",
              "      <td>63</td>\n",
              "      <td>1</td>\n",
              "      <td>3</td>\n",
              "      <td>145</td>\n",
              "      <td>233</td>\n",
              "      <td>1</td>\n",
              "      <td>0</td>\n",
              "      <td>150</td>\n",
              "      <td>0</td>\n",
              "      <td>2.3</td>\n",
              "      <td>0</td>\n",
              "      <td>0</td>\n",
              "      <td>1</td>\n",
              "      <td>1</td>\n",
              "    </tr>\n",
              "    <tr>\n",
              "      <th>1</th>\n",
              "      <td>37</td>\n",
              "      <td>1</td>\n",
              "      <td>2</td>\n",
              "      <td>130</td>\n",
              "      <td>250</td>\n",
              "      <td>0</td>\n",
              "      <td>1</td>\n",
              "      <td>187</td>\n",
              "      <td>0</td>\n",
              "      <td>3.5</td>\n",
              "      <td>0</td>\n",
              "      <td>0</td>\n",
              "      <td>2</td>\n",
              "      <td>1</td>\n",
              "    </tr>\n",
              "    <tr>\n",
              "      <th>2</th>\n",
              "      <td>41</td>\n",
              "      <td>0</td>\n",
              "      <td>1</td>\n",
              "      <td>130</td>\n",
              "      <td>204</td>\n",
              "      <td>0</td>\n",
              "      <td>0</td>\n",
              "      <td>172</td>\n",
              "      <td>0</td>\n",
              "      <td>1.4</td>\n",
              "      <td>2</td>\n",
              "      <td>0</td>\n",
              "      <td>2</td>\n",
              "      <td>1</td>\n",
              "    </tr>\n",
              "    <tr>\n",
              "      <th>3</th>\n",
              "      <td>56</td>\n",
              "      <td>1</td>\n",
              "      <td>1</td>\n",
              "      <td>120</td>\n",
              "      <td>236</td>\n",
              "      <td>0</td>\n",
              "      <td>1</td>\n",
              "      <td>178</td>\n",
              "      <td>0</td>\n",
              "      <td>0.8</td>\n",
              "      <td>2</td>\n",
              "      <td>0</td>\n",
              "      <td>2</td>\n",
              "      <td>1</td>\n",
              "    </tr>\n",
              "    <tr>\n",
              "      <th>4</th>\n",
              "      <td>57</td>\n",
              "      <td>0</td>\n",
              "      <td>0</td>\n",
              "      <td>120</td>\n",
              "      <td>354</td>\n",
              "      <td>0</td>\n",
              "      <td>1</td>\n",
              "      <td>163</td>\n",
              "      <td>1</td>\n",
              "      <td>0.6</td>\n",
              "      <td>2</td>\n",
              "      <td>0</td>\n",
              "      <td>2</td>\n",
              "      <td>1</td>\n",
              "    </tr>\n",
              "  </tbody>\n",
              "</table>\n",
              "</div>"
            ],
            "text/plain": [
              "   age  sex  cp  trestbps  chol  fbs  ...  exang  oldpeak  slope  ca  thal  target\n",
              "0   63    1   3       145   233    1  ...      0      2.3      0   0     1       1\n",
              "1   37    1   2       130   250    0  ...      0      3.5      0   0     2       1\n",
              "2   41    0   1       130   204    0  ...      0      1.4      2   0     2       1\n",
              "3   56    1   1       120   236    0  ...      0      0.8      2   0     2       1\n",
              "4   57    0   0       120   354    0  ...      1      0.6      2   0     2       1\n",
              "\n",
              "[5 rows x 14 columns]"
            ]
          },
          "metadata": {
            "tags": []
          },
          "execution_count": 3
        }
      ]
    },
    {
      "cell_type": "code",
      "metadata": {
        "id": "fI0qKA4i9wTm",
        "colab": {
          "base_uri": "https://localhost:8080/",
          "height": 380
        },
        "outputId": "32c3ee85-e2a5-4860-a42e-54b8cb6a6071"
      },
      "source": [
        "print(\"Counting the classes (Heart disease (1) vs No heart disease (0))\")\n",
        "print(df[\"target\"].value_counts())\n",
        "\n",
        "print(\"\\n\\nNow plotting that on graph to observe clearly\")\n",
        "df[\"target\"].value_counts().plot(kind=\"bar\", color=[\"salmon\", \"lightblue\"]);"
      ],
      "execution_count": null,
      "outputs": [
        {
          "output_type": "stream",
          "text": [
            "Counting the classes (Heart disease (1) vs No heart disease (0))\n",
            "1    165\n",
            "0    138\n",
            "Name: target, dtype: int64\n",
            "\n",
            "\n",
            "Now plotting that on graph to observe clearly\n"
          ],
          "name": "stdout"
        },
        {
          "output_type": "display_data",
          "data": {
            "image/png": "[encoded data removed]",
            "text/plain": [
              "<Figure size 432x288 with 1 Axes>"
            ]
          },
          "metadata": {
            "tags": [],
            "needs_background": "light"
          }
        }
      ]
    },
    {
      "cell_type": "code",
      "metadata": {
        "id": "f-t5DoPC9wTn",
        "colab": {
          "base_uri": "https://localhost:8080/"
        },
        "outputId": "7f46cc76-6718-4644-d834-817dff9c15d2"
      },
      "source": [
        "print(\"Number of Missing Values (in each column) in dataset\")\n",
        "df.isna().sum()"
      ],
      "execution_count": null,
      "outputs": [
        {
          "output_type": "stream",
          "text": [
            "Number of Missing Values (in each column) in dataset\n"
          ],
          "name": "stdout"
        },
        {
          "output_type": "execute_result",
          "data": {
            "text/plain": [
              "age         0\n",
              "sex         0\n",
              "cp          0\n",
              "trestbps    0\n",
              "chol        0\n",
              "fbs         0\n",
              "restecg     0\n",
              "thalach     0\n",
              "exang       0\n",
              "oldpeak     0\n",
              "slope       0\n",
              "ca          0\n",
              "thal        0\n",
              "target      0\n",
              "dtype: int64"
            ]
          },
          "metadata": {
            "tags": []
          },
          "execution_count": 5
        }
      ]
    },
    {
      "cell_type": "code",
      "metadata": {
        "id": "Zm4hbkGQ9wTp",
        "colab": {
          "base_uri": "https://localhost:8080/",
          "height": 404
        },
        "outputId": "c7fb61bf-6a09-4f72-c4f3-ec1e9412e7eb"
      },
      "source": [
        "# Create a plot of crosstab\n",
        "pd.crosstab(df.target, df.sex).plot(kind=\"bar\",\n",
        "                                    figsize=(10, 6),\n",
        "                                    color=[\"salmon\", \"lightblue\"])\n",
        "plt.title(\"Heart Disease Frequency for Sex\")\n",
        "plt.xlabel(\"0 = No Disease, 1 = Disease\")\n",
        "plt.ylabel(\"Amount\")\n",
        "plt.legend([\"Female\", \"Male\"]);\n",
        "plt.xticks(rotation=0);"
      ],
      "execution_count": null,
      "outputs": [
        {
          "output_type": "display_data",
          "data": {
            "image/png": "[encoded data removed]",
            "text/plain": [
              "<Figure size 720x432 with 1 Axes>"
            ]
          },
          "metadata": {
            "tags": [],
            "needs_background": "light"
          }
        }
      ]
    },
    {
      "cell_type": "code",
      "metadata": {
        "id": "ItUR7lsb9wTp",
        "colab": {
          "base_uri": "https://localhost:8080/",
          "height": 404
        },
        "outputId": "3befcb0d-5704-4d22-95e5-f950fbbb6a6d"
      },
      "source": [
        "# Create another figure\n",
        "plt.figure(figsize=(10, 6))\n",
        "\n",
        "# Scatter with positive examples\n",
        "plt.scatter(df.age[df.target==1],\n",
        "            df.thalach[df.target==1],\n",
        "            c=\"salmon\")\n",
        "\n",
        "# Scatter with negative examples\n",
        "plt.scatter(df.age[df.target==0],\n",
        "            df.thalach[df.target==0],\n",
        "            c=\"lightblue\")\n",
        "\n",
        "# Add some helpful info\n",
        "plt.title(\"Heart Disease in function of Age and Max Heart Rate\")\n",
        "plt.xlabel(\"Age\")\n",
        "plt.ylabel(\"Max Heart Rate\")\n",
        "plt.legend([\"Disease\", \"No Disease\"]);"
      ],
      "execution_count": null,
      "outputs": [
        {
          "output_type": "display_data",
          "data": {
            "image/png": "[encoded data removed]",
            "text/plain": [
              "<Figure size 720x432 with 1 Axes>"
            ]
          },
          "metadata": {
            "tags": [],
            "needs_background": "light"
          }
        }
      ]
    },
    {
      "cell_type": "code",
      "metadata": {
        "id": "hZjPIdvo9wTq",
        "colab": {
          "base_uri": "https://localhost:8080/",
          "height": 282
        },
        "outputId": "28292678-c808-4425-d223-1495658f70cc"
      },
      "source": [
        "# Check the distribution of the age column with a histogram\n",
        "print(\"Distribution of the age column in dataset\")\n",
        "df.age.plot.hist();"
      ],
      "execution_count": null,
      "outputs": [
        {
          "output_type": "stream",
          "text": [
            "Distribution of the age column in dataset\n"
          ],
          "name": "stdout"
        },
        {
          "output_type": "display_data",
          "data": {
            "image/png": "[encoded data removed]",
            "text/plain": [
              "<Figure size 432x288 with 1 Axes>"
            ]
          },
          "metadata": {
            "tags": [],
            "needs_background": "light"
          }
        }
      ]
    },
    {
      "cell_type": "code",
      "metadata": {
        "id": "X4LgSsiy9wTr",
        "colab": {
          "base_uri": "https://localhost:8080/",
          "height": 471
        },
        "outputId": "5b176468-348e-4cb8-9688-8986ec08e6e0"
      },
      "source": [
        "# Make the crosstab more visual\n",
        "pd.crosstab(df.cp, df.target).plot(kind=\"bar\",\n",
        "                                   figsize=(10, 6),\n",
        "                                   color=[\"salmon\", \"lightblue\"])\n",
        "\n",
        "# Add some communication\n",
        "plt.title(\"Heart Disease Frequency Per Chest Pain Type\")\n",
        "plt.xlabel(\"Chest Pain Type\")\n",
        "plt.ylabel(\"Amount\")\n",
        "plt.legend([\"No Disease\", \"Disease\"])\n",
        "plt.xticks(rotation=0);\n",
        "\n",
        "print(\"- 0: Typical angina: chest pain related decrease blood supply to the heart\\n- 1: Atypical angina: chest pain not related to heart\\n- 2: Non-anginal pain: typically esophageal spasms (non heart related)\\n- 3: Asymptomatic: chest pain not showing signs or disease\")"
      ],
      "execution_count": null,
      "outputs": [
        {
          "output_type": "stream",
          "text": [
            "- 0: Typical angina: chest pain related decrease blood supply to the heart\n",
            "- 1: Atypical angina: chest pain not related to heart\n",
            "- 2: Non-anginal pain: typically esophageal spasms (non heart related)\n",
            "- 3: Asymptomatic: chest pain not showing signs or disease\n"
          ],
          "name": "stdout"
        },
        {
          "output_type": "display_data",
          "data": {
            "image/png": "[encoded data removed]",
            "text/plain": [
              "<Figure size 720x432 with 1 Axes>"
            ]
          },
          "metadata": {
            "tags": [],
            "needs_background": "light"
          }
        }
      ]
    },
    {
      "cell_type": "markdown",
      "metadata": {
        "id": "KZKIgYn39wTt"
      },
      "source": [
        "#Modelling "
      ]
    },
    {
      "cell_type": "code",
      "metadata": {
        "id": "807cX-_N9wTt"
      },
      "source": [
        "# Split data into X and y (for training)\n",
        "X = df.drop(\"target\", axis=1)\n",
        "y = df[\"target\"]"
      ],
      "execution_count": null,
      "outputs": []
    },
    {
      "cell_type": "markdown",
      "metadata": {
        "id": "Ew1H5pwbMSoS"
      },
      "source": [
        "Splitting data into train & test set, with 20% of the data on test set and 80% on train set"
      ]
    },
    {
      "cell_type": "code",
      "metadata": {
        "id": "gcgBRb7S9wTv",
        "colab": {
          "base_uri": "https://localhost:8080/"
        },
        "outputId": "81df7323-78a4-4952-fb3c-5a100d72313a"
      },
      "source": [
        "X_train, X_test, y_train, y_test = train_test_split(X, y, test_size=0.2)\n",
        "print(X_train.shape)\n",
        "print(X_test.shape)\n",
        "print(y_train.shape)\n",
        "print(y_test.shape)"
      ],
      "execution_count": null,
      "outputs": [
        {
          "output_type": "stream",
          "text": [
            "(242, 13)\n",
            "(61, 13)\n",
            "(242,)\n",
            "(61,)\n"
          ],
          "name": "stdout"
        }
      ]
    },
    {
      "cell_type": "markdown",
      "metadata": {
        "id": "g__66V179wTw"
      },
      "source": [
        "Now we've got our data split into training and test sets, it's time to build a machine learning model. We'll train it (find the patterns) on the trainig set, test it (use the patterns to predict) on the test set, and then evaluate how much of the data the model correctly classified.\n",
        "\n",
        "We are going to use a very simple Neural Network Model with a input layer, 2 hidden layers and an output layer.\n",
        "\n",
        "* 1st layer (Input Layer) - a dense neural network layer that takes initial input and puts it through 30 neurons (activation function - tanh)\n",
        "\n",
        "* 2nd layer (1st hidden layer) - a dense neural network layer with 20 neurons (activation function - tanh)\n",
        "\n",
        "* 3nd layer (2st hidden layer) - a dense neural network layer with 20 neurons (activation function - tanh)\n",
        "\n",
        "* 4th layer (output layer) - takes in 20 input from the previous layer and puts it through a single neuron with sigmoid activation function to provide prediction\n",
        "\n",
        "We will be declaring our model now."
      ]
    },
    {
      "cell_type": "code",
      "metadata": {
        "id": "krYXpQHT9wTw"
      },
      "source": [
        "model = Sequential()\n",
        "model.add(Dense(30, input_dim=13, activation='tanh'))\n",
        "model.add(Dense(20, activation='tanh'))\n",
        "model.add(Dense(20, activation='tanh'))\n",
        "model.add(Dense(1, activation='sigmoid'))"
      ],
      "execution_count": null,
      "outputs": []
    },
    {
      "cell_type": "markdown",
      "metadata": {
        "id": "afO6AcjKOrIX"
      },
      "source": [
        "Compiling and fitting the model on dataset (The model will train for 300 iterations or epochs)"
      ]
    },
    {
      "cell_type": "code",
      "metadata": {
        "colab": {
          "base_uri": "https://localhost:8080/"
        },
        "id": "lcngrJ5ROp5B",
        "outputId": "63dcde3b-d1b6-4888-f1a6-8060e932b740"
      },
      "source": [
        "model.compile(optimizer='adam', loss='binary_crossentropy', metrics=['accuracy'])\n",
        "model.fit(X_train, y_train, epochs=300)"
      ],
      "execution_count": null,
      "outputs": [
        {
          "output_type": "stream",
          "text": [
            "Epoch 1/300\n",
            "8/8 [==============================] - 1s 2ms/step - loss: 0.6942 - accuracy: 0.5172\n",
            "Epoch 2/300\n",
            "8/8 [==============================] - 0s 2ms/step - loss: 0.6804 - accuracy: 0.5560\n",
            "Epoch 3/300\n",
            "8/8 [==============================] - 0s 2ms/step - loss: 0.6957 - accuracy: 0.5394\n",
            "Epoch 4/300\n",
            "8/8 [==============================] - 0s 2ms/step - loss: 0.6717 - accuracy: 0.6145\n",
            "Epoch 5/300\n",
            "8/8 [==============================] - 0s 2ms/step - loss: 0.6824 - accuracy: 0.5682\n",
            "Epoch 6/300\n",
            "8/8 [==============================] - 0s 2ms/step - loss: 0.6630 - accuracy: 0.6142\n",
            "Epoch 7/300\n",
            "8/8 [==============================] - 0s 2ms/step - loss: 0.6704 - accuracy: 0.5777\n",
            "Epoch 8/300\n",
            "8/8 [==============================] - 0s 2ms/step - loss: 0.6564 - accuracy: 0.6087\n",
            "Epoch 9/300\n",
            "8/8 [==============================] - 0s 2ms/step - loss: 0.6616 - accuracy: 0.5975\n",
            "Epoch 10/300\n",
            "8/8 [==============================] - 0s 2ms/step - loss: 0.6598 - accuracy: 0.5965\n",
            "Epoch 11/300\n",
            "8/8 [==============================] - 0s 2ms/step - loss: 0.6456 - accuracy: 0.6334\n",
            "Epoch 12/300\n",
            "8/8 [==============================] - 0s 2ms/step - loss: 0.6631 - accuracy: 0.5902\n",
            "Epoch 13/300\n",
            "8/8 [==============================] - 0s 4ms/step - loss: 0.6488 - accuracy: 0.6271\n",
            "Epoch 14/300\n",
            "8/8 [==============================] - 0s 2ms/step - loss: 0.6535 - accuracy: 0.6066\n",
            "Epoch 15/300\n",
            "8/8 [==============================] - 0s 2ms/step - loss: 0.6288 - accuracy: 0.6667\n",
            "Epoch 16/300\n",
            "8/8 [==============================] - 0s 19ms/step - loss: 0.6414 - accuracy: 0.6474\n",
            "Epoch 17/300\n",
            "8/8 [==============================] - 0s 2ms/step - loss: 0.6484 - accuracy: 0.6427\n",
            "Epoch 18/300\n",
            "8/8 [==============================] - 0s 2ms/step - loss: 0.6303 - accuracy: 0.6380\n",
            "Epoch 19/300\n",
            "8/8 [==============================] - 0s 3ms/step - loss: 0.6245 - accuracy: 0.6797\n",
            "Epoch 20/300\n",
            "8/8 [==============================] - 0s 2ms/step - loss: 0.6263 - accuracy: 0.6767\n",
            "Epoch 21/300\n",
            "8/8 [==============================] - 0s 3ms/step - loss: 0.6178 - accuracy: 0.6766\n",
            "Epoch 22/300\n",
            "8/8 [==============================] - 0s 2ms/step - loss: 0.6305 - accuracy: 0.6392\n",
            "Epoch 23/300\n",
            "8/8 [==============================] - 0s 2ms/step - loss: 0.6444 - accuracy: 0.6317\n",
            "Epoch 24/300\n",
            "8/8 [==============================] - 0s 2ms/step - loss: 0.6324 - accuracy: 0.6668\n",
            "Epoch 25/300\n",
            "8/8 [==============================] - 0s 2ms/step - loss: 0.6312 - accuracy: 0.6497\n",
            "Epoch 26/300\n",
            "8/8 [==============================] - 0s 2ms/step - loss: 0.6178 - accuracy: 0.6819\n",
            "Epoch 27/300\n",
            "8/8 [==============================] - 0s 2ms/step - loss: 0.6318 - accuracy: 0.6767\n",
            "Epoch 28/300\n",
            "8/8 [==============================] - 0s 2ms/step - loss: 0.6156 - accuracy: 0.6743\n",
            "Epoch 29/300\n",
            "8/8 [==============================] - 0s 2ms/step - loss: 0.6257 - accuracy: 0.6630\n",
            "Epoch 30/300\n",
            "8/8 [==============================] - 0s 2ms/step - loss: 0.6217 - accuracy: 0.6729\n",
            "Epoch 31/300\n",
            "8/8 [==============================] - 0s 2ms/step - loss: 0.6239 - accuracy: 0.6658\n",
            "Epoch 32/300\n",
            "8/8 [==============================] - 0s 2ms/step - loss: 0.6501 - accuracy: 0.6332\n",
            "Epoch 33/300\n",
            "8/8 [==============================] - 0s 2ms/step - loss: 0.6177 - accuracy: 0.6907\n",
            "Epoch 34/300\n",
            "8/8 [==============================] - 0s 2ms/step - loss: 0.6435 - accuracy: 0.6640\n",
            "Epoch 35/300\n",
            "8/8 [==============================] - 0s 2ms/step - loss: 0.6111 - accuracy: 0.6945\n",
            "Epoch 36/300\n",
            "8/8 [==============================] - 0s 2ms/step - loss: 0.5908 - accuracy: 0.6975\n",
            "Epoch 37/300\n",
            "8/8 [==============================] - 0s 2ms/step - loss: 0.6189 - accuracy: 0.6868\n",
            "Epoch 38/300\n",
            "8/8 [==============================] - 0s 2ms/step - loss: 0.6269 - accuracy: 0.6628\n",
            "Epoch 39/300\n",
            "8/8 [==============================] - 0s 2ms/step - loss: 0.6279 - accuracy: 0.6604\n",
            "Epoch 40/300\n",
            "8/8 [==============================] - 0s 2ms/step - loss: 0.6017 - accuracy: 0.6977\n",
            "Epoch 41/300\n",
            "8/8 [==============================] - 0s 2ms/step - loss: 0.6116 - accuracy: 0.6657\n",
            "Epoch 42/300\n",
            "8/8 [==============================] - 0s 2ms/step - loss: 0.6025 - accuracy: 0.6925\n",
            "Epoch 43/300\n",
            "8/8 [==============================] - 0s 3ms/step - loss: 0.6127 - accuracy: 0.6858\n",
            "Epoch 44/300\n",
            "8/8 [==============================] - 0s 2ms/step - loss: 0.6287 - accuracy: 0.6768\n",
            "Epoch 45/300\n",
            "8/8 [==============================] - 0s 3ms/step - loss: 0.6057 - accuracy: 0.6832\n",
            "Epoch 46/300\n",
            "8/8 [==============================] - 0s 2ms/step - loss: 0.5938 - accuracy: 0.7088\n",
            "Epoch 47/300\n",
            "8/8 [==============================] - 0s 3ms/step - loss: 0.6057 - accuracy: 0.6919\n",
            "Epoch 48/300\n",
            "8/8 [==============================] - 0s 2ms/step - loss: 0.5927 - accuracy: 0.6999\n",
            "Epoch 49/300\n",
            "8/8 [==============================] - 0s 2ms/step - loss: 0.6177 - accuracy: 0.6794\n",
            "Epoch 50/300\n",
            "8/8 [==============================] - 0s 2ms/step - loss: 0.6145 - accuracy: 0.6691\n",
            "Epoch 51/300\n",
            "8/8 [==============================] - 0s 4ms/step - loss: 0.6045 - accuracy: 0.7078\n",
            "Epoch 52/300\n",
            "8/8 [==============================] - 0s 2ms/step - loss: 0.5890 - accuracy: 0.6987\n",
            "Epoch 53/300\n",
            "8/8 [==============================] - 0s 2ms/step - loss: 0.6124 - accuracy: 0.6737\n",
            "Epoch 54/300\n",
            "8/8 [==============================] - 0s 2ms/step - loss: 0.5925 - accuracy: 0.7046\n",
            "Epoch 55/300\n",
            "8/8 [==============================] - 0s 2ms/step - loss: 0.6060 - accuracy: 0.6860\n",
            "Epoch 56/300\n",
            "8/8 [==============================] - 0s 2ms/step - loss: 0.6123 - accuracy: 0.6895\n",
            "Epoch 57/300\n",
            "8/8 [==============================] - 0s 3ms/step - loss: 0.5861 - accuracy: 0.7166\n",
            "Epoch 58/300\n",
            "8/8 [==============================] - 0s 2ms/step - loss: 0.6301 - accuracy: 0.6574\n",
            "Epoch 59/300\n",
            "8/8 [==============================] - 0s 2ms/step - loss: 0.5947 - accuracy: 0.7055\n",
            "Epoch 60/300\n",
            "8/8 [==============================] - 0s 2ms/step - loss: 0.5956 - accuracy: 0.7021\n",
            "Epoch 61/300\n",
            "8/8 [==============================] - 0s 2ms/step - loss: 0.5988 - accuracy: 0.6856\n",
            "Epoch 62/300\n",
            "8/8 [==============================] - 0s 2ms/step - loss: 0.5774 - accuracy: 0.7057\n",
            "Epoch 63/300\n",
            "8/8 [==============================] - 0s 4ms/step - loss: 0.5954 - accuracy: 0.7205\n",
            "Epoch 64/300\n",
            "8/8 [==============================] - 0s 2ms/step - loss: 0.5653 - accuracy: 0.7287\n",
            "Epoch 65/300\n",
            "8/8 [==============================] - 0s 2ms/step - loss: 0.5615 - accuracy: 0.7335\n",
            "Epoch 66/300\n",
            "8/8 [==============================] - 0s 3ms/step - loss: 0.5605 - accuracy: 0.7296\n",
            "Epoch 67/300\n",
            "8/8 [==============================] - 0s 2ms/step - loss: 0.5780 - accuracy: 0.7113\n",
            "Epoch 68/300\n",
            "8/8 [==============================] - 0s 2ms/step - loss: 0.6223 - accuracy: 0.6657\n",
            "Epoch 69/300\n",
            "8/8 [==============================] - 0s 2ms/step - loss: 0.6022 - accuracy: 0.6695\n",
            "Epoch 70/300\n",
            "8/8 [==============================] - 0s 2ms/step - loss: 0.5871 - accuracy: 0.7237\n",
            "Epoch 71/300\n",
            "8/8 [==============================] - 0s 3ms/step - loss: 0.5770 - accuracy: 0.7106\n",
            "Epoch 72/300\n",
            "8/8 [==============================] - 0s 2ms/step - loss: 0.5978 - accuracy: 0.7110\n",
            "Epoch 73/300\n",
            "8/8 [==============================] - 0s 2ms/step - loss: 0.5625 - accuracy: 0.7427\n",
            "Epoch 74/300\n",
            "8/8 [==============================] - 0s 2ms/step - loss: 0.5982 - accuracy: 0.7025\n",
            "Epoch 75/300\n",
            "8/8 [==============================] - 0s 2ms/step - loss: 0.5795 - accuracy: 0.7336\n",
            "Epoch 76/300\n",
            "8/8 [==============================] - 0s 2ms/step - loss: 0.5903 - accuracy: 0.7003\n",
            "Epoch 77/300\n",
            "8/8 [==============================] - 0s 3ms/step - loss: 0.5909 - accuracy: 0.6741\n",
            "Epoch 78/300\n",
            "8/8 [==============================] - 0s 2ms/step - loss: 0.5832 - accuracy: 0.7156\n",
            "Epoch 79/300\n",
            "8/8 [==============================] - 0s 2ms/step - loss: 0.5821 - accuracy: 0.7006\n",
            "Epoch 80/300\n",
            "8/8 [==============================] - 0s 3ms/step - loss: 0.5624 - accuracy: 0.7238\n",
            "Epoch 81/300\n",
            "8/8 [==============================] - 0s 2ms/step - loss: 0.5387 - accuracy: 0.7366\n",
            "Epoch 82/300\n",
            "8/8 [==============================] - 0s 2ms/step - loss: 0.5815 - accuracy: 0.7247\n",
            "Epoch 83/300\n",
            "8/8 [==============================] - 0s 2ms/step - loss: 0.5399 - accuracy: 0.7496\n",
            "Epoch 84/300\n",
            "8/8 [==============================] - 0s 3ms/step - loss: 0.5586 - accuracy: 0.7174\n",
            "Epoch 85/300\n",
            "8/8 [==============================] - 0s 2ms/step - loss: 0.5484 - accuracy: 0.7421\n",
            "Epoch 86/300\n",
            "8/8 [==============================] - 0s 2ms/step - loss: 0.5887 - accuracy: 0.7283\n",
            "Epoch 87/300\n",
            "8/8 [==============================] - 0s 2ms/step - loss: 0.5425 - accuracy: 0.7498\n",
            "Epoch 88/300\n",
            "8/8 [==============================] - 0s 3ms/step - loss: 0.5557 - accuracy: 0.7491\n",
            "Epoch 89/300\n",
            "8/8 [==============================] - 0s 3ms/step - loss: 0.5690 - accuracy: 0.7163\n",
            "Epoch 90/300\n",
            "8/8 [==============================] - 0s 2ms/step - loss: 0.5652 - accuracy: 0.7110\n",
            "Epoch 91/300\n",
            "8/8 [==============================] - 0s 2ms/step - loss: 0.5746 - accuracy: 0.7216\n",
            "Epoch 92/300\n",
            "8/8 [==============================] - 0s 4ms/step - loss: 0.5483 - accuracy: 0.7355\n",
            "Epoch 93/300\n",
            "8/8 [==============================] - 0s 3ms/step - loss: 0.5562 - accuracy: 0.7028\n",
            "Epoch 94/300\n",
            "8/8 [==============================] - 0s 2ms/step - loss: 0.5546 - accuracy: 0.7218\n",
            "Epoch 95/300\n",
            "8/8 [==============================] - 0s 3ms/step - loss: 0.5748 - accuracy: 0.7164\n",
            "Epoch 96/300\n",
            "8/8 [==============================] - 0s 2ms/step - loss: 0.5502 - accuracy: 0.7250\n",
            "Epoch 97/300\n",
            "8/8 [==============================] - 0s 3ms/step - loss: 0.5216 - accuracy: 0.7449\n",
            "Epoch 98/300\n",
            "8/8 [==============================] - 0s 2ms/step - loss: 0.5312 - accuracy: 0.7430\n",
            "Epoch 99/300\n",
            "8/8 [==============================] - 0s 2ms/step - loss: 0.5566 - accuracy: 0.7182\n",
            "Epoch 100/300\n",
            "8/8 [==============================] - 0s 2ms/step - loss: 0.5384 - accuracy: 0.7293\n",
            "Epoch 101/300\n",
            "8/8 [==============================] - 0s 2ms/step - loss: 0.5459 - accuracy: 0.7536\n",
            "Epoch 102/300\n",
            "8/8 [==============================] - 0s 2ms/step - loss: 0.5271 - accuracy: 0.7392\n",
            "Epoch 103/300\n",
            "8/8 [==============================] - 0s 2ms/step - loss: 0.5603 - accuracy: 0.7396\n",
            "Epoch 104/300\n",
            "8/8 [==============================] - 0s 2ms/step - loss: 0.5330 - accuracy: 0.7403\n",
            "Epoch 105/300\n",
            "8/8 [==============================] - 0s 2ms/step - loss: 0.5385 - accuracy: 0.7415\n",
            "Epoch 106/300\n",
            "8/8 [==============================] - 0s 2ms/step - loss: 0.5005 - accuracy: 0.7524\n",
            "Epoch 107/300\n",
            "8/8 [==============================] - 0s 2ms/step - loss: 0.4902 - accuracy: 0.7819\n",
            "Epoch 108/300\n",
            "8/8 [==============================] - 0s 3ms/step - loss: 0.5245 - accuracy: 0.7444\n",
            "Epoch 109/300\n",
            "8/8 [==============================] - 0s 3ms/step - loss: 0.5441 - accuracy: 0.7263\n",
            "Epoch 110/300\n",
            "8/8 [==============================] - 0s 2ms/step - loss: 0.5291 - accuracy: 0.7571\n",
            "Epoch 111/300\n",
            "8/8 [==============================] - 0s 2ms/step - loss: 0.5068 - accuracy: 0.7716\n",
            "Epoch 112/300\n",
            "8/8 [==============================] - 0s 2ms/step - loss: 0.5409 - accuracy: 0.7611\n",
            "Epoch 113/300\n",
            "8/8 [==============================] - 0s 2ms/step - loss: 0.4995 - accuracy: 0.7867\n",
            "Epoch 114/300\n",
            "8/8 [==============================] - 0s 3ms/step - loss: 0.5321 - accuracy: 0.7579\n",
            "Epoch 115/300\n",
            "8/8 [==============================] - 0s 3ms/step - loss: 0.5173 - accuracy: 0.7613\n",
            "Epoch 116/300\n",
            "8/8 [==============================] - 0s 2ms/step - loss: 0.5288 - accuracy: 0.7527\n",
            "Epoch 117/300\n",
            "8/8 [==============================] - 0s 2ms/step - loss: 0.5695 - accuracy: 0.7243\n",
            "Epoch 118/300\n",
            "8/8 [==============================] - 0s 2ms/step - loss: 0.5269 - accuracy: 0.7592\n",
            "Epoch 119/300\n",
            "8/8 [==============================] - 0s 3ms/step - loss: 0.4781 - accuracy: 0.8037\n",
            "Epoch 120/300\n",
            "8/8 [==============================] - 0s 2ms/step - loss: 0.5356 - accuracy: 0.7407\n",
            "Epoch 121/300\n",
            "8/8 [==============================] - 0s 2ms/step - loss: 0.5300 - accuracy: 0.7529\n",
            "Epoch 122/300\n",
            "8/8 [==============================] - 0s 2ms/step - loss: 0.5191 - accuracy: 0.7469\n",
            "Epoch 123/300\n",
            "8/8 [==============================] - 0s 3ms/step - loss: 0.5419 - accuracy: 0.7348\n",
            "Epoch 124/300\n",
            "8/8 [==============================] - 0s 2ms/step - loss: 0.5121 - accuracy: 0.7548\n",
            "Epoch 125/300\n",
            "8/8 [==============================] - 0s 3ms/step - loss: 0.4969 - accuracy: 0.7690\n",
            "Epoch 126/300\n",
            "8/8 [==============================] - 0s 2ms/step - loss: 0.5144 - accuracy: 0.7588\n",
            "Epoch 127/300\n",
            "8/8 [==============================] - 0s 2ms/step - loss: 0.5309 - accuracy: 0.7609\n",
            "Epoch 128/300\n",
            "8/8 [==============================] - 0s 3ms/step - loss: 0.5025 - accuracy: 0.7634\n",
            "Epoch 129/300\n",
            "8/8 [==============================] - 0s 3ms/step - loss: 0.4850 - accuracy: 0.7964\n",
            "Epoch 130/300\n",
            "8/8 [==============================] - 0s 2ms/step - loss: 0.5164 - accuracy: 0.7243\n",
            "Epoch 131/300\n",
            "8/8 [==============================] - 0s 2ms/step - loss: 0.4969 - accuracy: 0.7705\n",
            "Epoch 132/300\n",
            "8/8 [==============================] - 0s 3ms/step - loss: 0.4778 - accuracy: 0.7950\n",
            "Epoch 133/300\n",
            "8/8 [==============================] - 0s 2ms/step - loss: 0.5389 - accuracy: 0.7429\n",
            "Epoch 134/300\n",
            "8/8 [==============================] - 0s 3ms/step - loss: 0.5309 - accuracy: 0.7548\n",
            "Epoch 135/300\n",
            "8/8 [==============================] - 0s 2ms/step - loss: 0.4947 - accuracy: 0.7634\n",
            "Epoch 136/300\n",
            "8/8 [==============================] - 0s 2ms/step - loss: 0.5216 - accuracy: 0.7559\n",
            "Epoch 137/300\n",
            "8/8 [==============================] - 0s 2ms/step - loss: 0.5045 - accuracy: 0.7708\n",
            "Epoch 138/300\n",
            "8/8 [==============================] - 0s 3ms/step - loss: 0.5207 - accuracy: 0.7629\n",
            "Epoch 139/300\n",
            "8/8 [==============================] - 0s 2ms/step - loss: 0.5181 - accuracy: 0.7654\n",
            "Epoch 140/300\n",
            "8/8 [==============================] - 0s 2ms/step - loss: 0.5103 - accuracy: 0.7740\n",
            "Epoch 141/300\n",
            "8/8 [==============================] - 0s 2ms/step - loss: 0.5177 - accuracy: 0.7595\n",
            "Epoch 142/300\n",
            "8/8 [==============================] - 0s 2ms/step - loss: 0.4702 - accuracy: 0.7927\n",
            "Epoch 143/300\n",
            "8/8 [==============================] - 0s 2ms/step - loss: 0.4969 - accuracy: 0.7874\n",
            "Epoch 144/300\n",
            "8/8 [==============================] - 0s 3ms/step - loss: 0.4779 - accuracy: 0.7839\n",
            "Epoch 145/300\n",
            "8/8 [==============================] - 0s 2ms/step - loss: 0.5019 - accuracy: 0.7565\n",
            "Epoch 146/300\n",
            "8/8 [==============================] - 0s 2ms/step - loss: 0.4901 - accuracy: 0.7809\n",
            "Epoch 147/300\n",
            "8/8 [==============================] - 0s 2ms/step - loss: 0.5029 - accuracy: 0.7608\n",
            "Epoch 148/300\n",
            "8/8 [==============================] - 0s 2ms/step - loss: 0.5210 - accuracy: 0.7447\n",
            "Epoch 149/300\n",
            "8/8 [==============================] - 0s 2ms/step - loss: 0.5010 - accuracy: 0.7467\n",
            "Epoch 150/300\n",
            "8/8 [==============================] - 0s 3ms/step - loss: 0.4941 - accuracy: 0.7774\n",
            "Epoch 151/300\n",
            "8/8 [==============================] - 0s 2ms/step - loss: 0.4827 - accuracy: 0.7756\n",
            "Epoch 152/300\n",
            "8/8 [==============================] - 0s 3ms/step - loss: 0.5073 - accuracy: 0.7920\n",
            "Epoch 153/300\n",
            "8/8 [==============================] - 0s 2ms/step - loss: 0.4711 - accuracy: 0.8010\n",
            "Epoch 154/300\n",
            "8/8 [==============================] - 0s 2ms/step - loss: 0.5251 - accuracy: 0.7646\n",
            "Epoch 155/300\n",
            "8/8 [==============================] - 0s 2ms/step - loss: 0.4873 - accuracy: 0.7430\n",
            "Epoch 156/300\n",
            "8/8 [==============================] - 0s 2ms/step - loss: 0.4685 - accuracy: 0.8084\n",
            "Epoch 157/300\n",
            "8/8 [==============================] - 0s 2ms/step - loss: 0.4861 - accuracy: 0.7764\n",
            "Epoch 158/300\n",
            "8/8 [==============================] - 0s 2ms/step - loss: 0.5016 - accuracy: 0.7655\n",
            "Epoch 159/300\n",
            "8/8 [==============================] - 0s 2ms/step - loss: 0.5158 - accuracy: 0.7572\n",
            "Epoch 160/300\n",
            "8/8 [==============================] - 0s 3ms/step - loss: 0.4991 - accuracy: 0.7541\n",
            "Epoch 161/300\n",
            "8/8 [==============================] - 0s 2ms/step - loss: 0.4694 - accuracy: 0.7955\n",
            "Epoch 162/300\n",
            "8/8 [==============================] - 0s 2ms/step - loss: 0.5348 - accuracy: 0.7268\n",
            "Epoch 163/300\n",
            "8/8 [==============================] - 0s 3ms/step - loss: 0.4748 - accuracy: 0.7822\n",
            "Epoch 164/300\n",
            "8/8 [==============================] - 0s 2ms/step - loss: 0.4955 - accuracy: 0.7879\n",
            "Epoch 165/300\n",
            "8/8 [==============================] - 0s 3ms/step - loss: 0.4779 - accuracy: 0.7706\n",
            "Epoch 166/300\n",
            "8/8 [==============================] - 0s 2ms/step - loss: 0.5130 - accuracy: 0.7688\n",
            "Epoch 167/300\n",
            "8/8 [==============================] - 0s 3ms/step - loss: 0.5155 - accuracy: 0.7668\n",
            "Epoch 168/300\n",
            "8/8 [==============================] - 0s 2ms/step - loss: 0.4833 - accuracy: 0.7882\n",
            "Epoch 169/300\n",
            "8/8 [==============================] - 0s 3ms/step - loss: 0.4999 - accuracy: 0.7505\n",
            "Epoch 170/300\n",
            "8/8 [==============================] - 0s 2ms/step - loss: 0.4986 - accuracy: 0.7621\n",
            "Epoch 171/300\n",
            "8/8 [==============================] - 0s 2ms/step - loss: 0.4664 - accuracy: 0.7789\n",
            "Epoch 172/300\n",
            "8/8 [==============================] - 0s 3ms/step - loss: 0.4909 - accuracy: 0.7691\n",
            "Epoch 173/300\n",
            "8/8 [==============================] - 0s 2ms/step - loss: 0.5163 - accuracy: 0.7608\n",
            "Epoch 174/300\n",
            "8/8 [==============================] - 0s 3ms/step - loss: 0.4724 - accuracy: 0.7953\n",
            "Epoch 175/300\n",
            "8/8 [==============================] - 0s 2ms/step - loss: 0.4646 - accuracy: 0.8167\n",
            "Epoch 176/300\n",
            "8/8 [==============================] - 0s 2ms/step - loss: 0.4730 - accuracy: 0.7970\n",
            "Epoch 177/300\n",
            "8/8 [==============================] - 0s 2ms/step - loss: 0.4779 - accuracy: 0.7848\n",
            "Epoch 178/300\n",
            "8/8 [==============================] - 0s 2ms/step - loss: 0.4860 - accuracy: 0.7762\n",
            "Epoch 179/300\n",
            "8/8 [==============================] - 0s 2ms/step - loss: 0.4951 - accuracy: 0.7893\n",
            "Epoch 180/300\n",
            "8/8 [==============================] - 0s 2ms/step - loss: 0.5038 - accuracy: 0.7566\n",
            "Epoch 181/300\n",
            "8/8 [==============================] - 0s 3ms/step - loss: 0.5396 - accuracy: 0.7390\n",
            "Epoch 182/300\n",
            "8/8 [==============================] - 0s 2ms/step - loss: 0.5213 - accuracy: 0.7534\n",
            "Epoch 183/300\n",
            "8/8 [==============================] - 0s 3ms/step - loss: 0.5028 - accuracy: 0.7632\n",
            "Epoch 184/300\n",
            "8/8 [==============================] - 0s 2ms/step - loss: 0.4462 - accuracy: 0.7887\n",
            "Epoch 185/300\n",
            "8/8 [==============================] - 0s 2ms/step - loss: 0.5064 - accuracy: 0.7543\n",
            "Epoch 186/300\n",
            "8/8 [==============================] - 0s 2ms/step - loss: 0.5083 - accuracy: 0.7553\n",
            "Epoch 187/300\n",
            "8/8 [==============================] - 0s 2ms/step - loss: 0.5264 - accuracy: 0.7410\n",
            "Epoch 188/300\n",
            "8/8 [==============================] - 0s 2ms/step - loss: 0.4614 - accuracy: 0.8016\n",
            "Epoch 189/300\n",
            "8/8 [==============================] - 0s 3ms/step - loss: 0.4870 - accuracy: 0.7743\n",
            "Epoch 190/300\n",
            "8/8 [==============================] - 0s 2ms/step - loss: 0.4447 - accuracy: 0.8091\n",
            "Epoch 191/300\n",
            "8/8 [==============================] - 0s 2ms/step - loss: 0.5074 - accuracy: 0.7494\n",
            "Epoch 192/300\n",
            "8/8 [==============================] - 0s 2ms/step - loss: 0.4728 - accuracy: 0.7651\n",
            "Epoch 193/300\n",
            "8/8 [==============================] - 0s 3ms/step - loss: 0.4742 - accuracy: 0.7795\n",
            "Epoch 194/300\n",
            "8/8 [==============================] - 0s 2ms/step - loss: 0.5157 - accuracy: 0.7537\n",
            "Epoch 195/300\n",
            "8/8 [==============================] - 0s 2ms/step - loss: 0.4794 - accuracy: 0.7682\n",
            "Epoch 196/300\n",
            "8/8 [==============================] - 0s 3ms/step - loss: 0.4555 - accuracy: 0.7896\n",
            "Epoch 197/300\n",
            "8/8 [==============================] - 0s 2ms/step - loss: 0.5315 - accuracy: 0.7522\n",
            "Epoch 198/300\n",
            "8/8 [==============================] - 0s 2ms/step - loss: 0.4541 - accuracy: 0.7796\n",
            "Epoch 199/300\n",
            "8/8 [==============================] - 0s 2ms/step - loss: 0.5056 - accuracy: 0.7477\n",
            "Epoch 200/300\n",
            "8/8 [==============================] - 0s 2ms/step - loss: 0.4624 - accuracy: 0.7996\n",
            "Epoch 201/300\n",
            "8/8 [==============================] - 0s 2ms/step - loss: 0.4946 - accuracy: 0.7684\n",
            "Epoch 202/300\n",
            "8/8 [==============================] - 0s 3ms/step - loss: 0.4990 - accuracy: 0.7732\n",
            "Epoch 203/300\n",
            "8/8 [==============================] - 0s 6ms/step - loss: 0.4873 - accuracy: 0.7648\n",
            "Epoch 204/300\n",
            "8/8 [==============================] - 0s 3ms/step - loss: 0.4830 - accuracy: 0.7656\n",
            "Epoch 205/300\n",
            "8/8 [==============================] - 0s 2ms/step - loss: 0.4630 - accuracy: 0.7919\n",
            "Epoch 206/300\n",
            "8/8 [==============================] - 0s 2ms/step - loss: 0.5268 - accuracy: 0.7520\n",
            "Epoch 207/300\n",
            "8/8 [==============================] - 0s 2ms/step - loss: 0.4910 - accuracy: 0.7629\n",
            "Epoch 208/300\n",
            "8/8 [==============================] - 0s 2ms/step - loss: 0.4581 - accuracy: 0.8145\n",
            "Epoch 209/300\n",
            "8/8 [==============================] - 0s 3ms/step - loss: 0.4496 - accuracy: 0.7924\n",
            "Epoch 210/300\n",
            "8/8 [==============================] - 0s 3ms/step - loss: 0.5109 - accuracy: 0.7519\n",
            "Epoch 211/300\n",
            "8/8 [==============================] - 0s 3ms/step - loss: 0.4944 - accuracy: 0.7750\n",
            "Epoch 212/300\n",
            "8/8 [==============================] - 0s 2ms/step - loss: 0.4942 - accuracy: 0.7694\n",
            "Epoch 213/300\n",
            "8/8 [==============================] - 0s 3ms/step - loss: 0.4998 - accuracy: 0.7672\n",
            "Epoch 214/300\n",
            "8/8 [==============================] - 0s 2ms/step - loss: 0.4672 - accuracy: 0.7946\n",
            "Epoch 215/300\n",
            "8/8 [==============================] - 0s 2ms/step - loss: 0.5401 - accuracy: 0.7459\n",
            "Epoch 216/300\n",
            "8/8 [==============================] - 0s 2ms/step - loss: 0.4603 - accuracy: 0.7911\n",
            "Epoch 217/300\n",
            "8/8 [==============================] - 0s 2ms/step - loss: 0.4403 - accuracy: 0.8054\n",
            "Epoch 218/300\n",
            "8/8 [==============================] - 0s 2ms/step - loss: 0.5090 - accuracy: 0.7451\n",
            "Epoch 219/300\n",
            "8/8 [==============================] - 0s 2ms/step - loss: 0.4937 - accuracy: 0.7855\n",
            "Epoch 220/300\n",
            "8/8 [==============================] - 0s 3ms/step - loss: 0.4769 - accuracy: 0.7637\n",
            "Epoch 221/300\n",
            "8/8 [==============================] - 0s 2ms/step - loss: 0.4849 - accuracy: 0.7791\n",
            "Epoch 222/300\n",
            "8/8 [==============================] - 0s 3ms/step - loss: 0.4592 - accuracy: 0.7949\n",
            "Epoch 223/300\n",
            "8/8 [==============================] - 0s 2ms/step - loss: 0.4442 - accuracy: 0.7924\n",
            "Epoch 224/300\n",
            "8/8 [==============================] - 0s 2ms/step - loss: 0.4476 - accuracy: 0.8027\n",
            "Epoch 225/300\n",
            "8/8 [==============================] - 0s 2ms/step - loss: 0.4696 - accuracy: 0.7983\n",
            "Epoch 226/300\n",
            "8/8 [==============================] - 0s 3ms/step - loss: 0.4665 - accuracy: 0.7948\n",
            "Epoch 227/300\n",
            "8/8 [==============================] - 0s 2ms/step - loss: 0.4663 - accuracy: 0.7748\n",
            "Epoch 228/300\n",
            "8/8 [==============================] - 0s 3ms/step - loss: 0.4954 - accuracy: 0.7552\n",
            "Epoch 229/300\n",
            "8/8 [==============================] - 0s 3ms/step - loss: 0.4611 - accuracy: 0.7916\n",
            "Epoch 230/300\n",
            "8/8 [==============================] - 0s 3ms/step - loss: 0.4568 - accuracy: 0.7839\n",
            "Epoch 231/300\n",
            "8/8 [==============================] - 0s 2ms/step - loss: 0.4711 - accuracy: 0.7732\n",
            "Epoch 232/300\n",
            "8/8 [==============================] - 0s 2ms/step - loss: 0.4244 - accuracy: 0.8288\n",
            "Epoch 233/300\n",
            "8/8 [==============================] - 0s 2ms/step - loss: 0.5092 - accuracy: 0.7384\n",
            "Epoch 234/300\n",
            "8/8 [==============================] - 0s 2ms/step - loss: 0.4433 - accuracy: 0.8042\n",
            "Epoch 235/300\n",
            "8/8 [==============================] - 0s 2ms/step - loss: 0.5209 - accuracy: 0.7537\n",
            "Epoch 236/300\n",
            "8/8 [==============================] - 0s 3ms/step - loss: 0.4720 - accuracy: 0.7572\n",
            "Epoch 237/300\n",
            "8/8 [==============================] - 0s 2ms/step - loss: 0.4789 - accuracy: 0.7766\n",
            "Epoch 238/300\n",
            "8/8 [==============================] - 0s 2ms/step - loss: 0.4652 - accuracy: 0.7741\n",
            "Epoch 239/300\n",
            "8/8 [==============================] - 0s 3ms/step - loss: 0.4574 - accuracy: 0.7934\n",
            "Epoch 240/300\n",
            "8/8 [==============================] - 0s 2ms/step - loss: 0.4795 - accuracy: 0.7854\n",
            "Epoch 241/300\n",
            "8/8 [==============================] - 0s 3ms/step - loss: 0.4872 - accuracy: 0.7733\n",
            "Epoch 242/300\n",
            "8/8 [==============================] - 0s 3ms/step - loss: 0.4381 - accuracy: 0.7881\n",
            "Epoch 243/300\n",
            "8/8 [==============================] - 0s 2ms/step - loss: 0.5152 - accuracy: 0.7498\n",
            "Epoch 244/300\n",
            "8/8 [==============================] - 0s 3ms/step - loss: 0.5172 - accuracy: 0.7140\n",
            "Epoch 245/300\n",
            "8/8 [==============================] - 0s 2ms/step - loss: 0.4723 - accuracy: 0.7650\n",
            "Epoch 246/300\n",
            "8/8 [==============================] - 0s 3ms/step - loss: 0.4739 - accuracy: 0.7844\n",
            "Epoch 247/300\n",
            "8/8 [==============================] - 0s 2ms/step - loss: 0.4644 - accuracy: 0.7739\n",
            "Epoch 248/300\n",
            "8/8 [==============================] - 0s 2ms/step - loss: 0.4915 - accuracy: 0.7731\n",
            "Epoch 249/300\n",
            "8/8 [==============================] - 0s 3ms/step - loss: 0.4892 - accuracy: 0.7697\n",
            "Epoch 250/300\n",
            "8/8 [==============================] - 0s 2ms/step - loss: 0.4950 - accuracy: 0.7626\n",
            "Epoch 251/300\n",
            "8/8 [==============================] - 0s 3ms/step - loss: 0.4689 - accuracy: 0.7766\n",
            "Epoch 252/300\n",
            "8/8 [==============================] - 0s 2ms/step - loss: 0.4998 - accuracy: 0.7788\n",
            "Epoch 253/300\n",
            "8/8 [==============================] - 0s 2ms/step - loss: 0.4346 - accuracy: 0.7983\n",
            "Epoch 254/300\n",
            "8/8 [==============================] - 0s 3ms/step - loss: 0.4314 - accuracy: 0.8100\n",
            "Epoch 255/300\n",
            "8/8 [==============================] - 0s 2ms/step - loss: 0.4419 - accuracy: 0.7871\n",
            "Epoch 256/300\n",
            "8/8 [==============================] - 0s 2ms/step - loss: 0.4552 - accuracy: 0.7792\n",
            "Epoch 257/300\n",
            "8/8 [==============================] - 0s 2ms/step - loss: 0.4062 - accuracy: 0.8103\n",
            "Epoch 258/300\n",
            "8/8 [==============================] - 0s 3ms/step - loss: 0.4612 - accuracy: 0.7685\n",
            "Epoch 259/300\n",
            "8/8 [==============================] - 0s 2ms/step - loss: 0.4814 - accuracy: 0.7678\n",
            "Epoch 260/300\n",
            "8/8 [==============================] - 0s 2ms/step - loss: 0.4478 - accuracy: 0.8141\n",
            "Epoch 261/300\n",
            "8/8 [==============================] - 0s 2ms/step - loss: 0.4678 - accuracy: 0.7735\n",
            "Epoch 262/300\n",
            "8/8 [==============================] - 0s 2ms/step - loss: 0.4956 - accuracy: 0.7684\n",
            "Epoch 263/300\n",
            "8/8 [==============================] - 0s 2ms/step - loss: 0.4943 - accuracy: 0.7746\n",
            "Epoch 264/300\n",
            "8/8 [==============================] - 0s 3ms/step - loss: 0.4336 - accuracy: 0.7996\n",
            "Epoch 265/300\n",
            "8/8 [==============================] - 0s 2ms/step - loss: 0.4804 - accuracy: 0.7772\n",
            "Epoch 266/300\n",
            "8/8 [==============================] - 0s 2ms/step - loss: 0.4832 - accuracy: 0.7770\n",
            "Epoch 267/300\n",
            "8/8 [==============================] - 0s 3ms/step - loss: 0.4488 - accuracy: 0.7971\n",
            "Epoch 268/300\n",
            "8/8 [==============================] - 0s 2ms/step - loss: 0.4649 - accuracy: 0.7912\n",
            "Epoch 269/300\n",
            "8/8 [==============================] - 0s 2ms/step - loss: 0.4464 - accuracy: 0.8010\n",
            "Epoch 270/300\n",
            "8/8 [==============================] - 0s 3ms/step - loss: 0.5014 - accuracy: 0.7580\n",
            "Epoch 271/300\n",
            "8/8 [==============================] - 0s 2ms/step - loss: 0.4064 - accuracy: 0.8069\n",
            "Epoch 272/300\n",
            "8/8 [==============================] - 0s 2ms/step - loss: 0.4648 - accuracy: 0.7731\n",
            "Epoch 273/300\n",
            "8/8 [==============================] - 0s 3ms/step - loss: 0.4416 - accuracy: 0.7942\n",
            "Epoch 274/300\n",
            "8/8 [==============================] - 0s 3ms/step - loss: 0.4585 - accuracy: 0.7665\n",
            "Epoch 275/300\n",
            "8/8 [==============================] - 0s 2ms/step - loss: 0.4801 - accuracy: 0.7738\n",
            "Epoch 276/300\n",
            "8/8 [==============================] - 0s 3ms/step - loss: 0.4279 - accuracy: 0.7989\n",
            "Epoch 277/300\n",
            "8/8 [==============================] - 0s 3ms/step - loss: 0.4610 - accuracy: 0.7915\n",
            "Epoch 278/300\n",
            "8/8 [==============================] - 0s 2ms/step - loss: 0.4756 - accuracy: 0.7859\n",
            "Epoch 279/300\n",
            "8/8 [==============================] - 0s 2ms/step - loss: 0.4539 - accuracy: 0.7869\n",
            "Epoch 280/300\n",
            "8/8 [==============================] - 0s 2ms/step - loss: 0.4687 - accuracy: 0.7750\n",
            "Epoch 281/300\n",
            "8/8 [==============================] - 0s 3ms/step - loss: 0.4441 - accuracy: 0.7977\n",
            "Epoch 282/300\n",
            "8/8 [==============================] - 0s 3ms/step - loss: 0.4388 - accuracy: 0.8100\n",
            "Epoch 283/300\n",
            "8/8 [==============================] - 0s 3ms/step - loss: 0.4540 - accuracy: 0.7982\n",
            "Epoch 284/300\n",
            "8/8 [==============================] - 0s 3ms/step - loss: 0.4360 - accuracy: 0.8101\n",
            "Epoch 285/300\n",
            "8/8 [==============================] - 0s 3ms/step - loss: 0.4705 - accuracy: 0.7969\n",
            "Epoch 286/300\n",
            "8/8 [==============================] - 0s 2ms/step - loss: 0.4548 - accuracy: 0.7953\n",
            "Epoch 287/300\n",
            "8/8 [==============================] - 0s 3ms/step - loss: 0.4858 - accuracy: 0.7787\n",
            "Epoch 288/300\n",
            "8/8 [==============================] - 0s 4ms/step - loss: 0.4591 - accuracy: 0.7853\n",
            "Epoch 289/300\n",
            "8/8 [==============================] - 0s 2ms/step - loss: 0.4837 - accuracy: 0.7835\n",
            "Epoch 290/300\n",
            "8/8 [==============================] - 0s 2ms/step - loss: 0.4522 - accuracy: 0.8008\n",
            "Epoch 291/300\n",
            "8/8 [==============================] - 0s 2ms/step - loss: 0.4744 - accuracy: 0.7591\n",
            "Epoch 292/300\n",
            "8/8 [==============================] - 0s 3ms/step - loss: 0.4589 - accuracy: 0.7982\n",
            "Epoch 293/300\n",
            "8/8 [==============================] - 0s 3ms/step - loss: 0.4564 - accuracy: 0.7911\n",
            "Epoch 294/300\n",
            "8/8 [==============================] - 0s 2ms/step - loss: 0.4455 - accuracy: 0.7963\n",
            "Epoch 295/300\n",
            "8/8 [==============================] - 0s 2ms/step - loss: 0.4482 - accuracy: 0.8065\n",
            "Epoch 296/300\n",
            "8/8 [==============================] - 0s 3ms/step - loss: 0.4983 - accuracy: 0.7673\n",
            "Epoch 297/300\n",
            "8/8 [==============================] - 0s 3ms/step - loss: 0.4799 - accuracy: 0.7872\n",
            "Epoch 298/300\n",
            "8/8 [==============================] - 0s 3ms/step - loss: 0.5151 - accuracy: 0.7400\n",
            "Epoch 299/300\n",
            "8/8 [==============================] - 0s 2ms/step - loss: 0.4776 - accuracy: 0.7792\n",
            "Epoch 300/300\n",
            "8/8 [==============================] - 0s 2ms/step - loss: 0.4966 - accuracy: 0.7754\n"
          ],
          "name": "stdout"
        },
        {
          "output_type": "execute_result",
          "data": {
            "text/plain": [
              "<tensorflow.python.keras.callbacks.History at 0x7f2381ef91d0>"
            ]
          },
          "metadata": {
            "tags": []
          },
          "execution_count": 13
        }
      ]
    },
    {
      "cell_type": "markdown",
      "metadata": {
        "id": "m143TL4qSZMx"
      },
      "source": [
        "A summary of the model and acheived accuracy on test set\n",
        "\n",
        "\n",
        "\n"
      ]
    },
    {
      "cell_type": "code",
      "metadata": {
        "colab": {
          "base_uri": "https://localhost:8080/"
        },
        "id": "FvOkf-HfSZ62",
        "outputId": "cab55107-c740-4da6-b76f-7feb807851bf"
      },
      "source": [
        "model.summary()\n",
        "score = model.evaluate(X_test, y_test)\n",
        "print('Model Accuracy = ',score[1])"
      ],
      "execution_count": null,
      "outputs": [
        {
          "output_type": "stream",
          "text": [
            "Model: \"sequential\"\n",
            "_________________________________________________________________\n",
            "Layer (type)                 Output Shape              Param #   \n",
            "=================================================================\n",
            "dense (Dense)                (None, 30)                420       \n",
            "_________________________________________________________________\n",
            "dense_1 (Dense)              (None, 20)                620       \n",
            "_________________________________________________________________\n",
            "dense_2 (Dense)              (None, 20)                420       \n",
            "_________________________________________________________________\n",
            "dense_3 (Dense)              (None, 1)                 21        \n",
            "=================================================================\n",
            "Total params: 1,481\n",
            "Trainable params: 1,481\n",
            "Non-trainable params: 0\n",
            "_________________________________________________________________\n",
            "2/2 [==============================] - 0s 6ms/step - loss: 0.5862 - accuracy: 0.7869\n",
            "Model Accuracy =  0.7868852615356445\n"
          ],
          "name": "stdout"
        }
      ]
    },
    {
      "cell_type": "markdown",
      "metadata": {
        "id": "wKsU57R49wT5"
      },
      "source": [
        "## Evaluation\n",
        "* Receiver Operating Characteristic (ROC) curve and Area Under Curve (AUC score)\n",
        "* Confusion matrix\n",
        "* Classification report\n",
        "* Precision\n",
        "* Recall\n",
        "* F1-score\n",
        "\n",
        "First, we will make predictions using the model we built, Plot ROC curve and calculate AUC metric\n"
      ]
    },
    {
      "cell_type": "code",
      "metadata": {
        "id": "P6Bmrm8q9wT6",
        "colab": {
          "base_uri": "https://localhost:8080/",
          "height": 295
        },
        "outputId": "8089ca18-5ae6-4cee-e612-026ae17d2f26"
      },
      "source": [
        "y_pred = model.predict(X_test).ravel()\n",
        "\n",
        "#Finding ROC\n",
        "false_positive_rate, true_positive_rate, thresholds = roc_curve(y_test, y_pred)\n",
        "\n",
        "# Calculating AUC\n",
        "auc_nn = auc(false_positive_rate, true_positive_rate)\n",
        "\n",
        "# plotting ROC curve\n",
        "plt.figure(1)\n",
        "plt.plot([0, 1], [0, 1], 'k--')\n",
        "plt.plot(false_positive_rate, true_positive_rate, label='(AUC = {:.3f})'.format(auc_nn))\n",
        "plt.xlabel('False positive rate')\n",
        "plt.ylabel('True positive rate')\n",
        "plt.title('ROC curve')\n",
        "plt.legend(loc='best')\n",
        "plt.show()"
      ],
      "execution_count": null,
      "outputs": [
        {
          "output_type": "display_data",
          "data": {
            "image/png": "[encoded data removed]",
            "text/plain": [
              "<Figure size 432x288 with 1 Axes>"
            ]
          },
          "metadata": {
            "tags": [],
            "needs_background": "light"
          }
        }
      ]
    },
    {
      "cell_type": "markdown",
      "metadata": {
        "id": "XUgy1h3eYHLV"
      },
      "source": [
        "Calculating and plotting confusion Matrix"
      ]
    },
    {
      "cell_type": "code",
      "metadata": {
        "id": "sy_p9csH9wT6",
        "colab": {
          "base_uri": "https://localhost:8080/",
          "height": 277
        },
        "outputId": "e6f99650-2f71-4982-bc66-196a39b99e70"
      },
      "source": [
        "#The prediction is given on probabilties, like 40% (0.4) or 80% (0.8) probabilities of having a heart disease. We will need to make the numbers (o.4, 0.8) 0 and 1 for binary class classification first\n",
        "pred = []\n",
        "for i in y_pred:\n",
        "  if i > 0.5:\n",
        "    pred.append(1)\n",
        "  else:\n",
        "    pred.append(0)\n",
        "\n",
        "\n",
        "#Caculating and prinintng the values of confusion matrix\n",
        "print(confusion_matrix(y_test, pred))\n",
        "\n",
        "#plotting confusing matrix nicely\n",
        "sns.set(font_scale=1.5)\n",
        "\n",
        "def plot_conf_mat(y_test, y_preds):\n",
        "    \"\"\"\n",
        "    Plots a nice looking confusion matrix using Seaborn's heatmap()\n",
        "    \"\"\"\n",
        "    fig, ax = plt.subplots(figsize=(3, 3))\n",
        "    ax = sns.heatmap(confusion_matrix(y_test, y_preds),\n",
        "                     annot=True,\n",
        "                     cbar=False)\n",
        "    plt.xlabel(\"True label\")\n",
        "    plt.ylabel(\"Predicted label\")\n",
        "    \n",
        "    bottom, top = ax.get_ylim()\n",
        "    ax.set_ylim()\n",
        "    \n",
        "plot_conf_mat(y_test, pred)"
      ],
      "execution_count": null,
      "outputs": [
        {
          "output_type": "stream",
          "text": [
            "[[13 12]\n",
            " [ 1 35]]\n"
          ],
          "name": "stdout"
        },
        {
          "output_type": "display_data",
          "data": {
            "image/png": "[encoded data removed]",
            "text/plain": [
              "<Figure size 216x216 with 1 Axes>"
            ]
          },
          "metadata": {
            "tags": []
          }
        }
      ]
    },
    {
      "cell_type": "markdown",
      "metadata": {
        "id": "0rcWfrX19wT7"
      },
      "source": [
        "Finally, a classification report with cross-validated precision, recall and f1-score."
      ]
    },
    {
      "cell_type": "code",
      "metadata": {
        "id": "6bfXG-3N9wT7"
      },
      "source": [
        "print(classification_report(y_test, pred))"
      ],
      "execution_count": null,
      "outputs": []
    }
  ]
}